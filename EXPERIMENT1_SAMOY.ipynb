{
 "cells": [
  {
   "cell_type": "code",
   "execution_count": 3,
   "id": "b8c071af-b31d-4c6f-81ff-bc48c273a517",
   "metadata": {},
   "outputs": [
    {
     "name": "stdout",
     "output_type": "stream",
     "text": [
      "aaahmnst\n",
      "eilosu\n"
     ]
    }
   ],
   "source": [
    "def alphabet_soup(word):\n",
    "    return ''.join(sorted(word))\n",
    "print(alphabet_soup(\"samantha\"))  \n",
    "print(alphabet_soup(\"louise\"))  \n"
   ]
  },
  {
   "cell_type": "code",
   "execution_count": 5,
   "id": "dfdf5439-6300-405b-8696-9eee9a844c7f",
   "metadata": {},
   "outputs": [
    {
     "name": "stdout",
     "output_type": "stream",
     "text": [
      "Make me :)\n",
      "I am >:(\n",
      "Don't be :(\n",
      "You make me :D\n"
     ]
    }
   ],
   "source": [
    "def convert_to_emoticons(text):\n",
    "    emoticon_map = {\n",
    "        \"smile\": \":)\",\n",
    "        \"grin\": \":D\",\n",
    "        \"sad\": \":(\",\n",
    "        \"mad\": \">:(\"\n",
    "    }\n",
    "    \n",
    "    word_list = text.split()\n",
    "    converted_words = [emoticon_map.get(word, word) for word in word_list]\n",
    "    \n",
    "    return ' '.join(converted_words)\n",
    "\n",
    "# Test cases\n",
    "print(convert_to_emoticons(\"Make me smile\"))   \n",
    "print(convert_to_emoticons(\"I am mad\"))        \n",
    "print(convert_to_emoticons(\"Don't be sad\"))    \n",
    "print(convert_to_emoticons(\"You make me grin\"))"
   ]
  },
  {
   "cell_type": "code",
   "execution_count": 5,
   "id": "beb46960-bfca-4868-92a6-f1ac2ba92cc8",
   "metadata": {},
   "outputs": [
    {
     "name": "stdout",
     "output_type": "stream",
     "text": [
      "first: 7\n",
      "middle: [8, 9, 10, 11]\n",
      "last: 12\n"
     ]
    }
   ],
   "source": [
    "lst = [7, 8, 9, 10, 11, 12]\n",
    "\n",
    "first, *middle, last = lst\n",
    "\n",
    "print(f\"first: {first}\")\n",
    "print(f\"middle: {middle}\")\n",
    "print(f\"last: {last}\")\n"
   ]
  },
  {
   "cell_type": "markdown",
   "id": "f775f70a-9cdb-4efe-a702-e67277a4e513",
   "metadata": {},
   "source": [
    "Experiment 1\n"
   ]
  }
 ],
 "metadata": {
  "kernelspec": {
   "display_name": "Python 3 (ipykernel)",
   "language": "python",
   "name": "python3"
  },
  "language_info": {
   "codemirror_mode": {
    "name": "ipython",
    "version": 3
   },
   "file_extension": ".py",
   "mimetype": "text/x-python",
   "name": "python",
   "nbconvert_exporter": "python",
   "pygments_lexer": "ipython3",
   "version": "3.12.4"
  }
 },
 "nbformat": 4,
 "nbformat_minor": 5
}
